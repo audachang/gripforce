{
 "cells": [
  {
   "cell_type": "markdown",
   "metadata": {},
   "source": [
    "### get confounds tsv names"
   ]
  },
  {
   "cell_type": "code",
   "execution_count": 13,
   "metadata": {},
   "outputs": [],
   "source": [
    "import pandas as pd\n",
    "from glob import glob\n",
    "import re\n",
    "\n",
    "\n",
    "sID = 46\n",
    "\n",
    "nv = 196\n",
    "TR = 2.4\n",
    "offset = nv * TR\n",
    "fdir = f\"/media/DATA2/GripForce/out/fmriprep/sub-{sID:04d}/ses-01/func/\"\n",
    "\n",
    "cdf = glob(fdir+\"*confounds_timeseries.tsv\")"
   ]
  },
  {
   "cell_type": "code",
   "execution_count": 3,
   "metadata": {
    "scrolled": true
   },
   "outputs": [
    {
     "data": {
      "text/plain": [
       "['/media/DATA2/GripForce/out/fmriprep/sub-0003/ses-01/func/sub-0003_ses-01_task-GFORCE_run-2_desc-confounds_timeseries.tsv',\n",
       " '/media/DATA2/GripForce/out/fmriprep/sub-0003/ses-01/func/sub-0003_ses-01_task-GFORCE_run-1_desc-confounds_timeseries.tsv']"
      ]
     },
     "execution_count": 3,
     "metadata": {},
     "output_type": "execute_result"
    }
   ],
   "source": [
    "cdf"
   ]
  },
  {
   "cell_type": "code",
   "execution_count": 14,
   "metadata": {},
   "outputs": [
    {
     "data": {
      "text/plain": [
       "Index(['global_signal', 'a_comp_cor_00', 'a_comp_cor_01', 'a_comp_cor_02',\n",
       "       'a_comp_cor_03', 'a_comp_cor_04', 'a_comp_cor_05', 'cosine00',\n",
       "       'cosine01', 'cosine02', 'cosine03', 'cosine04', 'cosine05', 'trans_x',\n",
       "       'trans_y', 'trans_z', 'rot_x', 'rot_y', 'rot_z'],\n",
       "      dtype='object')"
      ]
     },
     "execution_count": 14,
     "metadata": {},
     "output_type": "execute_result"
    }
   ],
   "source": [
    "i = 1\n",
    "alldata = pd.DataFrame()\n",
    "for cf in cdf:\n",
    "    cdata = pd.read_csv(cf, sep=\"\\t\")\n",
    "    coln = cdata.columns\n",
    "    colsel = coln[coln.str.contains(\n",
    "        \"(global_signal$)|(trans_[xyz]$)|(rot_[xyz]$)|(a_comp_cor_[0][0-5]$)|cosine\")]\n",
    "    cdata2 = cdata.loc[:,colsel]\n",
    "    cfnew = re.sub('run-[12]_desc-confounds_timeseries.tsv',\n",
    "               f'run-{i}_desc-confounds_sel_timeseries.1D', \n",
    "               cf)\n",
    "    cdata2.to_csv(cfnew, sep=\"\\t\",index=False, header=False)    \n",
    "\n",
    "    alldata = pd.concat((alldata, cdata2))\n",
    "    i += 1\n",
    "\n",
    "allfn = re.sub('run-[12]_desc-confounds_timeseries.tsv',\n",
    "               f'desc-confounds_sel_timeseries.1D', \n",
    "               cf)\n",
    "alldata.to_csv(allfn, sep=\"\\t\", index=False, header = False)\n",
    "    \n",
    "    \n",
    "colsel"
   ]
  },
  {
   "cell_type": "code",
   "execution_count": 8,
   "metadata": {},
   "outputs": [
    {
     "data": {
      "text/plain": [
       "(392, 19)"
      ]
     },
     "execution_count": 8,
     "metadata": {},
     "output_type": "execute_result"
    }
   ],
   "source": [
    "alldata.shape\n"
   ]
  },
  {
   "cell_type": "code",
   "execution_count": 12,
   "metadata": {},
   "outputs": [
    {
     "data": {
      "text/plain": [
       "'/media/DATA2/GripForce/out/fmriprep/sub-0045/ses-01/func/sub-0045_ses-01_task-GFORCE_run-2_desc-confounds_sel_timeseries.1D'"
      ]
     },
     "execution_count": 12,
     "metadata": {},
     "output_type": "execute_result"
    }
   ],
   "source": [
    "cfnew"
   ]
  }
 ],
 "metadata": {
  "kernelspec": {
   "display_name": "Python 3",
   "language": "python",
   "name": "python3"
  },
  "language_info": {
   "codemirror_mode": {
    "name": "ipython",
    "version": 3
   },
   "file_extension": ".py",
   "mimetype": "text/x-python",
   "name": "python",
   "nbconvert_exporter": "python",
   "pygments_lexer": "ipython3",
   "version": "3.8.5"
  }
 },
 "nbformat": 4,
 "nbformat_minor": 2
}
