{
 "cells": [
  {
   "cell_type": "markdown",
   "metadata": {},
   "source": [
    "### Read behavioral data file\n",
    "\n",
    "[stimulus file format in afni](https://afni.nimh.nih.gov/afni/community/board/read.php?1,158062,158065#msg-158065)"
   ]
  },
  {
   "cell_type": "code",
   "execution_count": 10,
   "metadata": {},
   "outputs": [
    {
     "ename": "SyntaxError",
     "evalue": "unmatched ']' (<ipython-input-10-be6fc23b5a1a>, line 7)",
     "output_type": "error",
     "traceback": [
      "\u001b[0;36m  File \u001b[0;32m\"<ipython-input-10-be6fc23b5a1a>\"\u001b[0;36m, line \u001b[0;32m7\u001b[0m\n\u001b[0;31m    21, 22, 23,24,25, 26, 29, 30, 49, 56]\u001b[0m\n\u001b[0m                                        ^\u001b[0m\n\u001b[0;31mSyntaxError\u001b[0m\u001b[0;31m:\u001b[0m unmatched ']'\n"
     ]
    }
   ],
   "source": [
    "import pandas as pd\n",
    "import re\n",
    "import numpy as np\n",
    "\n",
    "debug = False\n",
    "#sids = [1, 2, 9, 11, 12,15, 16, 17, 18, 19, \n",
    "#21, 22, 23,24,25, 26, 29, 30, 49, 56]\n",
    "sids = [45]"
   ]
  },
  {
   "cell_type": "code",
   "execution_count": 11,
   "metadata": {},
   "outputs": [],
   "source": [
    "\n",
    "for sid in sids:\n",
    "    sub = f\"sub-{sid:04d}\"\n",
    "\n",
    "    if sid in [11]:\n",
    "        logfile = [f\"/media/DATA2/GripForce/beh/rawbeh/{sub}_ses-01_task-GFORCE_run-L.csv\",\n",
    "                   f\"/media/DATA2/GripForce/beh/rawbeh/{sub}_ses-01_task-GFORCE_run-R_1.csv\"]\n",
    "    elif sid in [9]:\n",
    "        logfile = [f\"/media/DATA2/GripForce/beh/rawbeh/{sub}_ses-01_task-GFORCE_run-L_1.csv\",\n",
    "                   f\"/media/DATA2/GripForce/beh/rawbeh/{sub}_ses-01_task-GFORCE_run-R.csv\"]\n",
    "    elif sid in [1]:\n",
    "        logfile = [f\"/media/DATA2/GripForce/beh/rawbeh/{sub}_ses-01_task-GFORCE_run-L_3.csv\",\n",
    "                   f\"/media/DATA2/GripForce/beh/rawbeh/{sub}_ses-01_task-GFORCE_run-R_3.csv\"]\n",
    "    elif sid in [29]:\n",
    "        logfile = [f\"/media/DATA2/GripForce/beh/rawbeh/{sub}_ses-01_task-GFORCE_run-L.csv\",\n",
    "                   f\"/media/DATA2/GripForce/beh/rawbeh/{sub}_ses-01_task-GFORCE_run-R_6.csv\"]\n",
    "       \n",
    "    else:\n",
    "        logfile = [f\"/media/DATA2/GripForce/beh/rawbeh/{sub}_ses-01_task-GFORCE_run-L.csv\",\n",
    "                   f\"/media/DATA2/GripForce/beh/rawbeh/{sub}_ses-01_task-GFORCE_run-R.csv\"]\n",
    "\n",
    "\n",
    "#     if debug:\n",
    "#         runs = ['01','02']\n",
    "#     else:\n",
    "#         if sid % 2 == 1:\n",
    "#             runs = ['02','01']\n",
    "#         else:\n",
    "#             runs = ['02','01']\n",
    "\n",
    "    runs = ['02','01'] #always map run-R to run-01, and run-L to run-02\n",
    "\n",
    "    for i in range(2):\n",
    "        data = pd.read_csv(logfile[i])\n",
    "        #print(data.columns)\n",
    "        data2 = data.loc[:,\n",
    "                         ['Target_Size','Ins_key.rt','TARGET.started',\n",
    "                          'Ins_key.started', 'ISItime', 'ISI_4.stopped',\n",
    "                          'trials.thisN']]\n",
    "        target_starts = data.loc[:, \"TARGET.started\"].dropna().reset_index()\n",
    "        data3 = data2.iloc[target_starts['index'], :]\n",
    "\n",
    "        data3 = data3.assign(Target_onsets = \\\n",
    "                             data3.loc[:,\"TARGET.started\"]-data.loc[0, 'Ins_key.rt'] - data.loc[0, 'Ins_key.started']) \n",
    "        #data3.head()\n",
    "        # 40% disc\n",
    "        data_s6 = data3.loc[data3['Target_Size']==0.6,:]\n",
    "        tmp = data_s6.Target_onsets\n",
    "        tmp2 = np.round(tmp, decimals=3)\n",
    "\n",
    "        with open(re.sub('rawbeh/','', re.sub(\"-[LR_1236]+.csv\",f\"-{runs[i]}-40%.1D\",logfile[i])), 'w') as file:\n",
    "            if runs[i] == '01':\n",
    "                file.write(tmp2.to_string(index=False).replace(\"\\n\",\" \"))\n",
    "                file.write('\\n* *\\n')\n",
    "            else:\n",
    "                file.write('* *\\n')\n",
    "                file.write(tmp2.to_string(index=False).replace(\"\\n\",\" \"))\n",
    "\n",
    "        #60% disc\n",
    "\n",
    "        data_s9 = data3.loc[data3['Target_Size']==0.9,:]\n",
    "        tmp3 = data_s9.Target_onsets\n",
    "        tmp4 = np.round(tmp3, decimals=3)\n",
    "\n",
    "        with open(re.sub('rawbeh/','',re.sub(\"-[LR_1236]+.csv\",f\"-{runs[i]}-60%.1D\",logfile[i])), 'w') as file:\n",
    "            if runs[i]=='01':\n",
    "                file.write(tmp4.to_string(index=False).replace(\"\\n\",\" \"))\n",
    "                file.write('\\n* *\\n')\n",
    "            else:\n",
    "                file.write('* *\\n')            \n",
    "                file.write(tmp4.to_string(index=False).replace(\"\\n\",\" \"))\n",
    "\n",
    "\n",
    "\n",
    "    "
   ]
  },
  {
   "cell_type": "markdown",
   "metadata": {},
   "source": [
    "## Notes\n",
    "\n",
    "1. sub-0002 has a damaged sub-0002_ses-01_task-GFORCE_run-L.csv, using sub-0002_ses-01_task-GFORCE_run-L_1.csv to replace."
   ]
  },
  {
   "cell_type": "code",
   "execution_count": 12,
   "metadata": {
    "scrolled": true
   },
   "outputs": [
    {
     "data": {
      "text/plain": [
       "'/media/DATA2/GripForce/beh/rawbeh/sub-0030_ses-01_task-GFORCE_run-R.csv'"
      ]
     },
     "execution_count": 12,
     "metadata": {},
     "output_type": "execute_result"
    }
   ],
   "source": [
    "re.sub('rawbeh/','',re.sub(\"-[LR_1]+.csv\",f\"-{runs[i]}-60%.1D\",logfile[i]))\n",
    "logfile[i]"
   ]
  },
  {
   "cell_type": "code",
   "execution_count": 36,
   "metadata": {},
   "outputs": [
    {
     "data": {
      "text/plain": [
       "1       2.036\n",
       "7      58.408\n",
       "9      78.197\n",
       "13    114.813\n",
       "19    175.183\n",
       "23    215.762\n",
       "25    238.551\n",
       "29    276.132\n",
       "33    311.715\n",
       "37    354.293\n",
       "43    415.664\n",
       "45    432.438\n",
       "Name: Target_onsets, dtype: float64"
      ]
     },
     "execution_count": 36,
     "metadata": {},
     "output_type": "execute_result"
    }
   ],
   "source": [
    "tmp4"
   ]
  }
 ],
 "metadata": {
  "kernelspec": {
   "display_name": "Python 3",
   "language": "python",
   "name": "python3"
  },
  "language_info": {
   "codemirror_mode": {
    "name": "ipython",
    "version": 3
   },
   "file_extension": ".py",
   "mimetype": "text/x-python",
   "name": "python",
   "nbconvert_exporter": "python",
   "pygments_lexer": "ipython3",
   "version": "3.8.5"
  }
 },
 "nbformat": 4,
 "nbformat_minor": 2
}
