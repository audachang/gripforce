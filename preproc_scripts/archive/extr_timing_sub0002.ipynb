{
 "cells": [
  {
   "cell_type": "markdown",
   "metadata": {},
   "source": [
    "### Read behavioral data file\n",
    "\n",
    "[stimulus file format in afni](https://afni.nimh.nih.gov/afni/community/board/read.php?1,158062,158065#msg-158065)"
   ]
  },
  {
   "cell_type": "code",
   "execution_count": 12,
   "metadata": {},
   "outputs": [],
   "source": [
    "import pandas as pd\n",
    "import numpy as np\n",
    "import re\n",
    "debug = False\n",
    "sid = 2\n",
    "sub = f\"sub-{sid:04d}\""
   ]
  },
  {
   "cell_type": "code",
   "execution_count": 2,
   "metadata": {},
   "outputs": [
    {
     "data": {
      "text/plain": [
       "'sub-0002'"
      ]
     },
     "execution_count": 2,
     "metadata": {},
     "output_type": "execute_result"
    }
   ],
   "source": [
    "sub"
   ]
  },
  {
   "cell_type": "code",
   "execution_count": 19,
   "metadata": {},
   "outputs": [],
   "source": [
    "logfile = [f\"/media/DATA2/GripForce/beh/{sub}_ses-01_task-GFORCE_run-L.csv\",\n",
    "           f\"/media/DATA2/GripForce/beh/{sub}_ses-01_task-GFORCE_run-R.csv\"]\n",
    "\n",
    "if debug:\n",
    "    runs = ['01','02']\n",
    "else:\n",
    "    if sid % 2 == 1:\n",
    "        runs = ['01','02']\n",
    "    else:\n",
    "        runs = ['02','01']\n",
    "    \n",
    "   \n",
    "\n",
    "for i in range(2):\n",
    "    data = pd.read_csv(logfile[i])\n",
    "    #print(data.columns)\n",
    "    data2 = data.loc[:,\n",
    "                     ['Target_Size','Ins_key.rt','TARGET.started',\n",
    "                      'Ins_key.started', 'ISItime', 'ISI_4.stopped',\n",
    "                      'trials.thisN']]\n",
    "    target_starts = data.loc[:, \"TARGET.started\"].dropna().reset_index()\n",
    "    data3 = data2.iloc[target_starts['index'], :]\n",
    "\n",
    "    #corrected for the abnormal application of force\n",
    "    data3 = data3.assign(Target_onsets = \\\n",
    "                         data3.loc[:,\"TARGET.started\"]- \\\n",
    "                         data.loc[0, 'Ins_key.rt'] - \\\n",
    "                         data.loc[0, 'Ins_key.started']- 2.4) \n",
    "    \n",
    "    data3.loc[:,\"Target_onsets\"] = np.ceil(data3[\"Target_onsets\"])\n",
    "    \n",
    "    #data3.head()\n",
    "    # 40% disc\n",
    "    data_s6 = data3.loc[data3['Target_Size']==0.6,:]\n",
    "\n",
    "    with open(re.sub(\"-[LR].csv\",f\"-{runs[i]}-40%.1D\",logfile[i]), 'w') as file:\n",
    "        if runs[i] == '01':\n",
    "            file.write(data_s6.Target_onsets.to_string(index=False).replace(\"\\n\",\"\"))\n",
    "            file.write('\\n* *\\n')\n",
    "        else:\n",
    "            file.write('* *\\n')\n",
    "            file.write(data_s6.Target_onsets.to_string(index=False).replace(\"\\n\",\"\"))\n",
    "\n",
    "\n",
    "\n",
    "    data_s9 = data3.loc[data3['Target_Size']==0.9,:]\n",
    "    with open(re.sub(\"-[LR].csv\",f\"-{runs[i]}-60%.1D\",logfile[i]), 'w') as file:\n",
    "        if runs[i]=='01':\n",
    "            file.write(data_s9.Target_onsets.to_string(index=False).replace(\"\\n\",\"\"))\n",
    "            file.write('\\n* *\\n')\n",
    "        else:\n",
    "            file.write('* *\\n')            \n",
    "            file.write(data_s9.Target_onsets.to_string(index=False).replace(\"\\n\",\"\"))\n",
    "\n",
    "            \n",
    "\n",
    "    "
   ]
  },
  {
   "cell_type": "code",
   "execution_count": 24,
   "metadata": {},
   "outputs": [
    {
     "name": "stdout",
     "output_type": "stream",
     "text": [
      "/media/DATA2/GripForce/beh/sub-0002_ses-01_task-GFORCE_run-01-60%.1D /media/DATA2/GripForce/beh/sub-0002_ses-01_task-GFORCE_run-R.csv\n",
      "/media/DATA2/GripForce/beh/sub-0002_ses-01_task-GFORCE_run-01-40%.1D /media/DATA2/GripForce/beh/sub-0002_ses-01_task-GFORCE_run-R.csv\n"
     ]
    }
   ],
   "source": [
    "print(re.sub(\"-[LR].csv\",f\"-{runs[i]}-60%.1D\",logfile[i]), logfile[i])\n",
    "print(re.sub(\"-[LR].csv\",f\"-{runs[i]}-40%.1D\",logfile[i]), logfile[i])"
   ]
  },
  {
   "cell_type": "markdown",
   "metadata": {},
   "source": [
    "## Notes\n",
    "\n",
    "1. sub-0002 has a damaged sub-0002_ses-01_task-GFORCE_run-L.csv, using sub-0002_ses-01_task-GFORCE_run-L_1.csv to replace."
   ]
  }
 ],
 "metadata": {
  "kernelspec": {
   "display_name": "Python 3",
   "language": "python",
   "name": "python3"
  },
  "language_info": {
   "codemirror_mode": {
    "name": "ipython",
    "version": 3
   },
   "file_extension": ".py",
   "mimetype": "text/x-python",
   "name": "python",
   "nbconvert_exporter": "python",
   "pygments_lexer": "ipython3",
   "version": "3.7.4"
  }
 },
 "nbformat": 4,
 "nbformat_minor": 2
}
