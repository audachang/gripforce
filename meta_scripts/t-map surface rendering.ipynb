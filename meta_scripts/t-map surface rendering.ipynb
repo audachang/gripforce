{
 "cells": [
  {
   "cell_type": "markdown",
   "id": "1425a9b7",
   "metadata": {},
   "source": [
    "## step1: convert t-map from volumetric (*.nii) to surface (*.func.gii)"
   ]
  },
  {
   "cell_type": "markdown",
   "id": "490919c0-aea4-4d09-9a2f-9143fdc3c245",
   "metadata": {},
   "source": [
    "#### not working at the momoent"
   ]
  },
  {
   "cell_type": "markdown",
   "id": "083f42fc",
   "metadata": {},
   "source": [
    "```tcsh\n",
    "- usage: vol2surf.sh <model> <subject number> <contr>\n",
    "- Example: vol2surf.sh CSPLINzero 254 R-L\n",
    "```"
   ]
  },
  {
   "cell_type": "code",
   "execution_count": 1,
   "id": "bd74d018",
   "metadata": {
    "scrolled": true
   },
   "outputs": [
    {
     "name": "stdout",
     "output_type": "stream",
     "text": [
      "vol2surf.sh: Command not found.\n"
     ]
    }
   ],
   "source": [
    "# BRIK to nii\n",
    "!vol2surf.sh CSPLINzero 405 R-L\n",
    "    "
   ]
  },
  {
   "cell_type": "markdown",
   "id": "69e75f80-e1df-4ca3-9d76-09cb8c36a467",
   "metadata": {},
   "source": [
    "#### convert BRIK to nii"
   ]
  },
  {
   "cell_type": "code",
   "execution_count": null,
   "id": "d2d808e7-2576-4062-90ef-85489849322d",
   "metadata": {},
   "outputs": [],
   "source": [
    "!3dAFNItoNIFTI ../"
   ]
  },
  {
   "cell_type": "markdown",
   "id": "4bc64629-242b-4cb2-8a95-bcbe8bf3a8d5",
   "metadata": {},
   "source": [
    "#### convert freesurfer to gii"
   ]
  },
  {
   "cell_type": "code",
   "execution_count": null,
   "id": "ddf47118-4eba-4491-8e9c-e6e8ca594a97",
   "metadata": {},
   "outputs": [],
   "source": []
  },
  {
   "cell_type": "markdown",
   "id": "e5647b74",
   "metadata": {},
   "source": [
    "#### convert nii to func.gii\n",
    "```tcsh\n",
    "wb_command -volume-to-surface-mapping your_tmap.nii \\\n",
    "    your_surface.gii \\\n",
    "    your_tmap_metric.metric \\\n",
    "    -trilinear\n",
    "```\n"
   ]
  },
  {
   "cell_type": "code",
   "execution_count": 2,
   "id": "a1d1c0d1",
   "metadata": {},
   "outputs": [
    {
     "name": "stdout",
     "output_type": "stream",
     "text": [
      "\n",
      "While running:\n",
      "/usr/local/workbench/bin_linux64/../exe_linux64/wb_command -volume-to-surface-mapping ../out/afni/subject_results/group_results/test.CSPLINzero.3dMEMA_N=301.R-L.results/stats.mema.nii ../out/freesurfer/fsaverage/surf/lh.pial.surf.gii ../out/afni/subject_results/group_results/test.CSPLINzero.3dMEMA_N=254.R-L.results/stats.mema.lh.pial.surf.metric.func.gii -trilinear\n",
      "\n",
      "ERROR: NAME OF FILE: stats.mema.nii\n",
      "PATH TO FILE: ../out/afni/subject_results/group_results/test.CSPLINzero.3dMEMA_N=301.R-L.results\n",
      "\n",
      "File does not exist.\n",
      "\n",
      "\n",
      "While running:\n",
      "/usr/local/workbench/bin_linux64/../exe_linux64/wb_command -volume-to-surface-mapping ../out/afni/subject_results/group_results/test.CSPLINzero.3dMEMA_N=301.R-L.results/stats.mema.nii ../out/freesurfer/fsaverage/surf/rh.pial.surf.gii ../out/afni/subject_results/group_results/test.CSPLINzero.3dMEMA_N=254.R-L.results/stats.mema.rh.pial.surf.metric.func.gii -trilinear\n",
      "\n",
      "ERROR: NAME OF FILE: stats.mema.nii\n",
      "PATH TO FILE: ../out/afni/subject_results/group_results/test.CSPLINzero.3dMEMA_N=301.R-L.results\n",
      "\n",
      "File does not exist.\n",
      "\n"
     ]
    }
   ],
   "source": [
    "\n",
    "# left hemisphere\n",
    "!wb_command -volume-to-surface-mapping ../out/afni/subject_results/group_results/test.CSPLINzero.3dMEMA_N\\=301.R-L.results/stats.mema.nii \\\n",
    "    ../out/freesurfer/fsaverage/surf/lh.pial.surf.gii \\\n",
    "    ../out/afni/subject_results/group_results/test.CSPLINzero.3dMEMA_N\\=254.R-L.results/stats.mema.lh.pial.surf.metric.func.gii \\\n",
    "    -trilinear\n",
    "\n",
    "\n",
    "# right hemisphere\n",
    "!wb_command -volume-to-surface-mapping ../out/afni/subject_results/group_results/test.CSPLINzero.3dMEMA_N\\=301.R-L.results/stats.mema.nii \\\n",
    "    ../out/freesurfer/fsaverage/surf/rh.pial.surf.gii \\\n",
    "    ../out/afni/subject_results/group_results/test.CSPLINzero.3dMEMA_N\\=254.R-L.results/stats.mema.rh.pial.surf.metric.func.gii \\\n",
    "    -trilinear\n"
   ]
  },
  {
   "cell_type": "code",
   "execution_count": 2,
   "id": "674e6fd4",
   "metadata": {},
   "outputs": [
    {
     "name": "stdout",
     "output_type": "stream",
     "text": [
      "Requirement already satisfied: nibabel in /home/aclexp/anaconda3/lib/python3.9/site-packages (5.1.0)\n",
      "Requirement already satisfied: packaging>=17 in /home/aclexp/anaconda3/lib/python3.9/site-packages (from nibabel) (22.0)\n",
      "Requirement already satisfied: numpy>=1.19 in /home/aclexp/anaconda3/lib/python3.9/site-packages (from nibabel) (1.21.6)\n",
      "Note: you may need to restart the kernel to use updated packages.\n"
     ]
    }
   ],
   "source": []
  },
  {
   "cell_type": "code",
   "execution_count": null,
   "id": "c9a3dbe0",
   "metadata": {},
   "outputs": [],
   "source": []
  }
 ],
 "metadata": {
  "kernelspec": {
   "display_name": "Python 3 (ipykernel)",
   "language": "python",
   "name": "python3"
  },
  "language_info": {
   "codemirror_mode": {
    "name": "ipython",
    "version": 3
   },
   "file_extension": ".py",
   "mimetype": "text/x-python",
   "name": "python",
   "nbconvert_exporter": "python",
   "pygments_lexer": "ipython3",
   "version": "3.12.1"
  }
 },
 "nbformat": 4,
 "nbformat_minor": 5
}
